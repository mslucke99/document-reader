{
  "nbformat": 4,
  "nbformat_minor": 0,
  "metadata": {
    "colab": {
      "name": "Fine-Tune a Detectron2 Model",
      "provenance": [],
      "authorship_tag": "ABX9TyMyT6MuPWhanFrmNG0cL/gI",
      "include_colab_link": true
    },
    "kernelspec": {
      "name": "python3",
      "display_name": "Python 3"
    },
    "language_info": {
      "name": "python"
    }
  },
  "cells": [
    {
      "cell_type": "markdown",
      "metadata": {
        "id": "view-in-github",
        "colab_type": "text"
      },
      "source": [
        "<a href=\"https://colab.research.google.com/github/mslucke99/document-reader/blob/main/Fine_Tune_a_Detectron2_Model.ipynb\" target=\"_parent\"><img src=\"https://colab.research.google.com/assets/colab-badge.svg\" alt=\"Open In Colab\"/></a>"
      ]
    },
    {
      "cell_type": "code",
      "execution_count": null,
      "metadata": {
        "id": "Xxy-JI9_H-S_"
      },
      "outputs": [],
      "source": [
        "!pip3 install 'git+https://github.com/facebookresearch/detectron2.git'\n",
        "!pip3 install pandas"
      ]
    },
    {
      "cell_type": "code",
      "source": [
        "!python sample_data/scripts/train_net.py --dataset_name \"my_dataset\" --json_annotation_train \"/content/sample_data/images/val.json\" --image_path_train \"sample_data\\images\" --json_annotation_val \"/content/sample_data/images/val.json\" --image_path_val \"sample_data\\images\" --config-file \"/content/sample_data/model/config.yaml\" MODEL.WEIGHTS \".\\sample_data\\model\\model_final.pth\" OUTPUT_DIR \".\\sample_data\\output\" MODEL.ROI_HEADS.BATCH_SIZE_PER_IMAGE 256 SOLVER.CHECKPOINT_PERIOD 20000 SOLVER.MAX_ITER 80000 SOLVER.IMS_PER_BATCH 2 INPUT.RANDOM_FLIP \"vertical\""
      ],
      "metadata": {
        "id": "oDnC_uOKIK3K"
      },
      "execution_count": null,
      "outputs": []
    }
  ]
}